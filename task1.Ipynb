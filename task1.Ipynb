{
 "cells": [
  {
   "cell_type": "code",
   "execution_count": 2,
   "metadata": {},
   "outputs": [],
   "source": [
    "def get_middle_letters(word):\n",
    "    length = len(word)\n",
    "    \n",
    "    # Проверяем, является ли длина слова четной или нечетной\n",
    "    if length % 2 == 0:\n",
    "        # Если четная, возвращаем две средние буквы\n",
    "        middle_index = length // 2\n",
    "        return word[middle_index - 1:middle_index + 1]\n",
    "    else:\n",
    "        # Если нечетная, возвращаем одну среднюю букву\n",
    "        middle_index = length // 2\n",
    "        return word[middle_index]"
   ]
  },
  {
   "cell_type": "code",
   "execution_count": 3,
   "metadata": {},
   "outputs": [
    {
     "name": "stdout",
     "output_type": "stream",
     "text": [
      "Слово: test, Результат: es\n",
      "Слово: testing, Результат: t\n"
     ]
    }
   ],
   "source": [
    "# Примеры использования функции\n",
    "word1 = 'test'\n",
    "result1 = get_middle_letters(word1)\n",
    "print(f\"Слово: {word1}, Результат: {result1}\")\n",
    "\n",
    "word2 = 'testing'\n",
    "result2 = get_middle_letters(word2)\n",
    "print(f\"Слово: {word2}, Результат: {result2}\")"
   ]
  }
 ],
 "metadata": {
  "kernelspec": {
   "display_name": "GPU",
   "language": "python",
   "name": "python3"
  },
  "language_info": {
   "codemirror_mode": {
    "name": "ipython",
    "version": 3
   },
   "file_extension": ".py",
   "mimetype": "text/x-python",
   "name": "python",
   "nbconvert_exporter": "python",
   "pygments_lexer": "ipython3",
   "version": "3.8.18"
  }
 },
 "nbformat": 4,
 "nbformat_minor": 2
}
