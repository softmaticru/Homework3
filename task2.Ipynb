{
 "cells": [
  {
   "cell_type": "code",
   "execution_count": 2,
   "metadata": {},
   "outputs": [],
   "source": [
    "def create_pairs(boys, girls):\n",
    "    # Проверяем, равны ли длины списков\n",
    "    if len(boys) != len(girls):\n",
    "        return \"Внимание, кто-то может остаться без пары!\"\n",
    "    \n",
    "    # Сортируем списки\n",
    "    boys_sorted = sorted(boys)\n",
    "    girls_sorted = sorted(girls)\n",
    "    \n",
    "    # Формируем идеальные пары\n",
    "    pairs = list(zip(boys_sorted, girls_sorted))\n",
    "    \n",
    "    # Формируем вывод\n",
    "    result = \"Идеальные пары:\\n\"\n",
    "    for boy, girl in pairs:\n",
    "        result += f\"{boy} и {girl}\\n\"\n",
    "    \n",
    "    return result.strip()"
   ]
  },
  {
   "cell_type": "code",
   "execution_count": 3,
   "metadata": {},
   "outputs": [
    {
     "name": "stdout",
     "output_type": "stream",
     "text": [
      "Идеальные пары:\n",
      "Alex и Emma\n",
      "Arthur и Kate\n",
      "John и Kira\n",
      "Peter и Liza\n",
      "Richard и Trisha\n",
      "Внимание, кто-то может остаться без пары!\n"
     ]
    }
   ],
   "source": [
    "# Примеры использования функции\n",
    "boys1 = ['Peter', 'Alex', 'John', 'Arthur', 'Richard']\n",
    "girls1 = ['Kate', 'Liza', 'Kira', 'Emma', 'Trisha']\n",
    "print(create_pairs(boys1, girls1))\n",
    "\n",
    "boys2 = ['Peter', 'Alex', 'John', 'Arthur', 'Richard', 'Michael']\n",
    "girls2 = ['Kate', 'Liza', 'Kira', 'Emma', 'Trisha']\n",
    "print(create_pairs(boys2, girls2))"
   ]
  }
 ],
 "metadata": {
  "kernelspec": {
   "display_name": "GPU",
   "language": "python",
   "name": "python3"
  },
  "language_info": {
   "codemirror_mode": {
    "name": "ipython",
    "version": 3
   },
   "file_extension": ".py",
   "mimetype": "text/x-python",
   "name": "python",
   "nbconvert_exporter": "python",
   "pygments_lexer": "ipython3",
   "version": "3.8.18"
  }
 },
 "nbformat": 4,
 "nbformat_minor": 2
}
